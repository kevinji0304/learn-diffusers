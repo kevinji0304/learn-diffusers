{
 "cells": [
  {
   "cell_type": "markdown",
   "metadata": {},
   "source": [
    "## CogVideoX"
   ]
  },
  {
   "cell_type": "code",
   "execution_count": 1,
   "metadata": {},
   "outputs": [
    {
     "name": "stdout",
     "output_type": "stream",
     "text": [
      "Requirement already satisfied: sentencepiece in d:\\applications\\anaconda3\\envs\\diffusers\\lib\\site-packages (0.2.0)\n"
     ]
    }
   ],
   "source": [
    "! pip install sentencepiece"
   ]
  },
  {
   "cell_type": "code",
   "execution_count": null,
   "metadata": {},
   "outputs": [
    {
     "name": "stderr",
     "output_type": "stream",
     "text": [
      "d:\\Applications\\anaconda3\\envs\\diffusers\\lib\\site-packages\\tqdm\\auto.py:21: TqdmWarning: IProgress not found. Please update jupyter and ipywidgets. See https://ipywidgets.readthedocs.io/en/stable/user_install.html\n",
      "  from .autonotebook import tqdm as notebook_tqdm\n",
      "Loading pipeline components...:   0%|          | 0/5 [00:00<?, ?it/s]The config attributes {'invert_scale_latents': False} were passed to AutoencoderKLCogVideoX, but are not expected and will be ignored. Please verify your config.json configuration file.\n",
      "Loading checkpoint shards: 100%|██████████| 2/2 [00:00<00:00,  6.05it/s]it/s]\n",
      "Loading pipeline components...: 100%|██████████| 5/5 [00:01<00:00,  2.98it/s]\n"
     ]
    }
   ],
   "source": [
    "import torch\n",
    "from diffusers import CogVideoXImageToVideoPipeline\n",
    "from diffusers.utils import export_to_video, load_image\n",
    "\n",
    "prompt = \"A person playing guitar with passion\"\n",
    "image = load_image(image=\"playingguitar.jpg\")\n",
    "pipe = CogVideoXImageToVideoPipeline.from_pretrained(\n",
    "    \"THUDM/CogVideoX-5b-I2V\",\n",
    "    torch_dtype=torch.bfloat16,\n",
    "    cache_dir = \"D:/cache/huggingface\"\n",
    ")\n",
    " \n",
    "pipe.vae.enable_tiling()\n",
    "pipe.vae.enable_slicing()\n",
    "\n",
    "video = pipe(\n",
    "    prompt=prompt,\n",
    "    image=image,\n",
    "    num_videos_per_prompt=1,\n",
    "    num_inference_steps=50,\n",
    "    num_frames=49,\n",
    "    guidance_scale=6,\n",
    "    generator=torch.Generator(device=\"cuda\").manual_seed(42),\n",
    ").frames[0]\n",
    "\n",
    "export_to_video(video, \"output.mp4\", fps=8)"
   ]
  }
 ],
 "metadata": {
  "kernelspec": {
   "display_name": "diffusers",
   "language": "python",
   "name": "python3"
  },
  "language_info": {
   "codemirror_mode": {
    "name": "ipython",
    "version": 3
   },
   "file_extension": ".py",
   "mimetype": "text/x-python",
   "name": "python",
   "nbconvert_exporter": "python",
   "pygments_lexer": "ipython3",
   "version": "3.10.15"
  }
 },
 "nbformat": 4,
 "nbformat_minor": 2
}
